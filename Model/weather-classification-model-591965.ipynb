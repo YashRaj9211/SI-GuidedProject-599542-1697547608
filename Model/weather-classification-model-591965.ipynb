{
 "cells": [
  {
   "cell_type": "markdown",
   "metadata": {},
   "source": [
    "## Importing libraries"
   ]
  },
  {
   "cell_type": "code",
   "execution_count": 1,
   "metadata": {
    "execution": {
     "iopub.execute_input": "2022-01-28T13:46:40.402098Z",
     "iopub.status.busy": "2022-01-28T13:46:40.401723Z",
     "iopub.status.idle": "2022-01-28T13:46:45.373732Z",
     "shell.execute_reply": "2022-01-28T13:46:45.37301Z",
     "shell.execute_reply.started": "2022-01-28T13:46:40.40202Z"
    }
   },
   "outputs": [],
   "source": [
    "import numpy as np\n",
    "import matplotlib.pyplot as plt\n",
    "import tensorflow as tf\n",
    "from tensorflow.keras.preprocessing.image import ImageDataGenerator\n",
    "from tensorflow.keras.preprocessing import image\n",
    "import os"
   ]
  },
  {
   "cell_type": "markdown",
   "metadata": {},
   "source": [
    "## Loading images"
   ]
  },
  {
   "cell_type": "code",
   "execution_count": 2,
   "metadata": {
    "execution": {
     "iopub.execute_input": "2022-01-28T13:46:45.375716Z",
     "iopub.status.busy": "2022-01-28T13:46:45.375463Z",
     "iopub.status.idle": "2022-01-28T13:46:45.401907Z",
     "shell.execute_reply": "2022-01-28T13:46:45.401259Z",
     "shell.execute_reply.started": "2022-01-28T13:46:45.375682Z"
    }
   },
   "outputs": [
    {
     "name": "stdout",
     "output_type": "stream",
     "text": [
      "['Cloudy', 'Rain', 'Shine', 'Sunrise']\n"
     ]
    }
   ],
   "source": [
    "base_dir =  'path to data directory'\n",
    "folders = os.listdir(base_dir)\n",
    "print(folders)"
   ]
  },
  {
   "cell_type": "code",
   "execution_count": 3,
   "metadata": {
    "execution": {
     "iopub.execute_input": "2022-01-28T13:46:45.403416Z",
     "iopub.status.busy": "2022-01-28T13:46:45.40308Z",
     "iopub.status.idle": "2022-01-28T13:46:45.924836Z",
     "shell.execute_reply": "2022-01-28T13:46:45.924109Z",
     "shell.execute_reply.started": "2022-01-28T13:46:45.40338Z"
    }
   },
   "outputs": [
    {
     "name": "stdout",
     "output_type": "stream",
     "text": [
      "Found 901 images belonging to 4 classes.\n",
      "Found 224 images belonging to 4 classes.\n"
     ]
    }
   ],
   "source": [
    "train_datagen = ImageDataGenerator(rescale=1./255,\n",
    "    shear_range=0.2,\n",
    "    zoom_range=0.2,\n",
    "    horizontal_flip=True,\n",
    "    validation_split=0.2)\n",
    "\n",
    "train_generator = train_datagen.flow_from_directory(\n",
    "    base_dir,\n",
    "    target_size=(250 , 250),\n",
    "    batch_size= 32,\n",
    "    class_mode='categorical',\n",
    "    subset='training')\n",
    "\n",
    "validation_generator = train_datagen.flow_from_directory(\n",
    "    base_dir,\n",
    "    target_size=(250, 250),\n",
    "    batch_size= 32,\n",
    "    class_mode='categorical',\n",
    "    subset='validation')"
   ]
  },
  {
   "cell_type": "code",
   "execution_count": 4,
   "metadata": {
    "execution": {
     "iopub.execute_input": "2022-01-28T13:46:45.927871Z",
     "iopub.status.busy": "2022-01-28T13:46:45.927672Z",
     "iopub.status.idle": "2022-01-28T13:46:45.932469Z",
     "shell.execute_reply": "2022-01-28T13:46:45.93177Z",
     "shell.execute_reply.started": "2022-01-28T13:46:45.92784Z"
    }
   },
   "outputs": [
    {
     "name": "stdout",
     "output_type": "stream",
     "text": [
      "{0: 'Cloudy', 1: 'Rain', 2: 'Shine', 3: 'Sunrise'}\n"
     ]
    }
   ],
   "source": [
    "# Generated Labels\n",
    "\n",
    "labels = (train_generator.class_indices)\n",
    "labels = dict((v , k) for k , v in labels.items())\n",
    "print(labels)"
   ]
  },
  {
   "cell_type": "markdown",
   "metadata": {},
   "source": [
    "## Model"
   ]
  },
  {
   "cell_type": "markdown",
   "metadata": {},
   "source": [
    "### 1. InceptionV3"
   ]
  },
  {
   "cell_type": "code",
   "execution_count": 5,
   "metadata": {
    "execution": {
     "iopub.execute_input": "2022-01-28T13:46:45.934507Z",
     "iopub.status.busy": "2022-01-28T13:46:45.934045Z",
     "iopub.status.idle": "2022-01-28T13:46:50.878837Z",
     "shell.execute_reply": "2022-01-28T13:46:50.878079Z",
     "shell.execute_reply.started": "2022-01-28T13:46:45.934473Z"
    }
   },
   "outputs": [
    {
     "name": "stdout",
     "output_type": "stream",
     "text": [
      "Downloading data from https://storage.googleapis.com/tensorflow/keras-applications/inception_v3/inception_v3_weights_tf_dim_ordering_tf_kernels_notop.h5\n",
      "87910968/87910968 [==============================] - 28s 0us/step\n"
     ]
    }
   ],
   "source": [
    "base_model = tf.keras.applications.InceptionV3(input_shape=(250,250,3),\n",
    "                                               include_top=False,\n",
    "                                               weights = \"imagenet\"\n",
    "                                               )"
   ]
  },
  {
   "cell_type": "code",
   "execution_count": 6,
   "metadata": {
    "execution": {
     "iopub.execute_input": "2022-01-28T13:46:50.882317Z",
     "iopub.status.busy": "2022-01-28T13:46:50.881801Z",
     "iopub.status.idle": "2022-01-28T13:46:50.894953Z",
     "shell.execute_reply": "2022-01-28T13:46:50.894277Z",
     "shell.execute_reply.started": "2022-01-28T13:46:50.882285Z"
    }
   },
   "outputs": [],
   "source": [
    "base_model.trainable = False"
   ]
  },
  {
   "cell_type": "code",
   "execution_count": 7,
   "metadata": {
    "execution": {
     "iopub.execute_input": "2022-01-28T13:46:50.89669Z",
     "iopub.status.busy": "2022-01-28T13:46:50.896244Z",
     "iopub.status.idle": "2022-01-28T13:46:51.428275Z",
     "shell.execute_reply": "2022-01-28T13:46:51.427542Z",
     "shell.execute_reply.started": "2022-01-28T13:46:50.896657Z"
    }
   },
   "outputs": [
    {
     "name": "stderr",
     "output_type": "stream",
     "text": [
      "WARNING:absl:At this time, the v2.11+ optimizer `tf.keras.optimizers.Adam` runs slowly on M1/M2 Macs, please use the legacy Keras optimizer instead, located at `tf.keras.optimizers.legacy.Adam`.\n",
      "WARNING:absl:`lr` is deprecated in Keras optimizer, please use `learning_rate` or use the legacy optimizer, e.g.,tf.keras.optimizers.legacy.Adam.\n"
     ]
    }
   ],
   "source": [
    "model_inc = tf.keras.Sequential([\n",
    "    base_model,\n",
    "    tf.keras.layers.MaxPooling2D(),\n",
    "    tf.keras.layers.Flatten(),\n",
    "    tf.keras.layers.Dense(4, activation=\"softmax\")\n",
    "])\n",
    "\n",
    "model_inc.compile(loss='categorical_crossentropy' , optimizer=tf.keras.optimizers.Adam(lr = 0.001) , metrics='accuracy')"
   ]
  },
  {
   "cell_type": "code",
   "execution_count": 8,
   "metadata": {
    "execution": {
     "iopub.execute_input": "2022-01-28T13:46:51.429972Z",
     "iopub.status.busy": "2022-01-28T13:46:51.429561Z",
     "iopub.status.idle": "2022-01-28T13:46:51.453218Z",
     "shell.execute_reply": "2022-01-28T13:46:51.452546Z",
     "shell.execute_reply.started": "2022-01-28T13:46:51.429921Z"
    }
   },
   "outputs": [
    {
     "name": "stdout",
     "output_type": "stream",
     "text": [
      "Model: \"sequential\"\n",
      "_________________________________________________________________\n",
      " Layer (type)                Output Shape              Param #   \n",
      "=================================================================\n",
      " inception_v3 (Functional)   (None, 6, 6, 2048)        21802784  \n",
      "                                                                 \n",
      " max_pooling2d_4 (MaxPoolin  (None, 3, 3, 2048)        0         \n",
      " g2D)                                                            \n",
      "                                                                 \n",
      " flatten (Flatten)           (None, 18432)             0         \n",
      "                                                                 \n",
      " dense (Dense)               (None, 4)                 73732     \n",
      "                                                                 \n",
      "=================================================================\n",
      "Total params: 21876516 (83.45 MB)\n",
      "Trainable params: 73732 (288.02 KB)\n",
      "Non-trainable params: 21802784 (83.17 MB)\n",
      "_________________________________________________________________\n"
     ]
    }
   ],
   "source": [
    "model_inc.summary()"
   ]
  },
  {
   "cell_type": "code",
   "execution_count": 9,
   "metadata": {
    "execution": {
     "iopub.execute_input": "2022-01-28T13:46:51.454609Z",
     "iopub.status.busy": "2022-01-28T13:46:51.454347Z",
     "iopub.status.idle": "2022-01-28T13:52:11.702266Z",
     "shell.execute_reply": "2022-01-28T13:52:11.701505Z",
     "shell.execute_reply.started": "2022-01-28T13:46:51.454551Z"
    },
    "scrolled": true
   },
   "outputs": [
    {
     "name": "stdout",
     "output_type": "stream",
     "text": [
      "Epoch 1/15\n",
      "28/28 [==============================] - 36s 1s/step - loss: 1.7069 - accuracy: 0.7203 - val_loss: 0.5571 - val_accuracy: 0.8482\n",
      "Epoch 2/15\n",
      "28/28 [==============================] - 37s 1s/step - loss: 0.2504 - accuracy: 0.9412 - val_loss: 0.4358 - val_accuracy: 0.8705\n",
      "Epoch 3/15\n",
      "28/28 [==============================] - 42s 1s/step - loss: 0.1304 - accuracy: 0.9623 - val_loss: 0.4648 - val_accuracy: 0.8705\n",
      "Epoch 4/15\n",
      "28/28 [==============================] - 43s 2s/step - loss: 0.1259 - accuracy: 0.9578 - val_loss: 0.4239 - val_accuracy: 0.9062\n",
      "Epoch 5/15\n",
      "28/28 [==============================] - 44s 2s/step - loss: 0.1015 - accuracy: 0.9645 - val_loss: 0.8881 - val_accuracy: 0.7946\n",
      "Epoch 6/15\n",
      "28/28 [==============================] - 43s 2s/step - loss: 0.0776 - accuracy: 0.9789 - val_loss: 0.4072 - val_accuracy: 0.8884\n",
      "Epoch 7/15\n",
      "28/28 [==============================] - 47s 2s/step - loss: 0.0730 - accuracy: 0.9789 - val_loss: 0.4657 - val_accuracy: 0.8929\n",
      "Epoch 8/15\n",
      "28/28 [==============================] - 45s 2s/step - loss: 0.0870 - accuracy: 0.9734 - val_loss: 0.4469 - val_accuracy: 0.8839\n",
      "Epoch 9/15\n",
      "28/28 [==============================] - 45s 2s/step - loss: 0.0728 - accuracy: 0.9745 - val_loss: 0.4059 - val_accuracy: 0.9107\n",
      "Epoch 10/15\n",
      "28/28 [==============================] - 43s 2s/step - loss: 0.0441 - accuracy: 0.9867 - val_loss: 0.4197 - val_accuracy: 0.8839\n",
      "Epoch 11/15\n",
      "28/28 [==============================] - 46s 2s/step - loss: 0.0181 - accuracy: 0.9933 - val_loss: 0.4636 - val_accuracy: 0.9241\n",
      "Epoch 12/15\n",
      "28/28 [==============================] - 44s 2s/step - loss: 0.0455 - accuracy: 0.9878 - val_loss: 0.2968 - val_accuracy: 0.9241\n",
      "Epoch 13/15\n",
      "28/28 [==============================] - 43s 2s/step - loss: 0.0216 - accuracy: 0.9933 - val_loss: 0.5186 - val_accuracy: 0.8750\n",
      "Epoch 14/15\n",
      "28/28 [==============================] - 46s 2s/step - loss: 0.0346 - accuracy: 0.9900 - val_loss: 0.5648 - val_accuracy: 0.8750\n",
      "Epoch 15/15\n",
      "28/28 [==============================] - 41s 1s/step - loss: 0.0754 - accuracy: 0.9723 - val_loss: 1.0910 - val_accuracy: 0.8393\n"
     ]
    }
   ],
   "source": [
    "# Training\n",
    "\n",
    "hist_inc = model_inc.fit(train_generator ,\n",
    "          validation_data = validation_generator ,\n",
    "          epochs = 15 ,\n",
    "          steps_per_epoch = 901/32, # train_files/batch_size\n",
    "          validation_steps = 224/32, # valid_files/batch_size \n",
    "          )"
   ]
  },
  {
   "cell_type": "code",
   "execution_count": null,
   "metadata": {
    "execution": {
     "iopub.execute_input": "2022-01-28T13:52:11.705932Z",
     "iopub.status.busy": "2022-01-28T13:52:11.705286Z",
     "iopub.status.idle": "2022-01-28T13:52:11.91241Z",
     "shell.execute_reply": "2022-01-28T13:52:11.91173Z",
     "shell.execute_reply.started": "2022-01-28T13:52:11.7059Z"
    }
   },
   "outputs": [],
   "source": [
    "# Summarize history for accuracy\n",
    "\n",
    "plt.plot(hist_inc.history['accuracy'])\n",
    "plt.plot(hist_inc.history['val_accuracy'])\n",
    "plt.title('Model Accuracy')\n",
    "plt.ylabel('Accuracy')\n",
    "plt.xlabel('Epoch')\n",
    "plt.legend(['train', 'test'], loc='upper left')\n",
    "plt.show()"
   ]
  },
  {
   "cell_type": "code",
   "execution_count": 13,
   "metadata": {
    "execution": {
     "iopub.execute_input": "2022-01-28T13:52:11.915095Z",
     "iopub.status.busy": "2022-01-28T13:52:11.913537Z",
     "iopub.status.idle": "2022-01-28T13:52:12.111047Z",
     "shell.execute_reply": "2022-01-28T13:52:12.110331Z",
     "shell.execute_reply.started": "2022-01-28T13:52:11.915056Z"
    },
    "scrolled": true
   },
   "outputs": [
    {
     "data": {
      "image/png": "[encoded data removed]",
      "text/plain": [
       "<Figure size 640x480 with 1 Axes>"
      ]
     },
     "metadata": {},
     "output_type": "display_data"
    },
    {
     "name": "stderr",
     "output_type": "stream",
     "text": [
      "/Users/mruthunjai_govindaraju/anaconda3/lib/python3.11/site-packages/keras/src/engine/training.py:3079: UserWarning: You are saving your model as an HDF5 file via `model.save()`. This file format is considered legacy. We recommend using instead the native Keras format, e.g. `model.save('my_model.keras')`.\n",
      "  saving_api.save_model(\n"
     ]
    }
   ],
   "source": [
    "# Summarize history for loss\n",
    "\n",
    "plt.plot(hist_inc.history['loss'])\n",
    "plt.plot(hist_inc.history['val_loss'])\n",
    "plt.title('Model Loss')\n",
    "plt.ylabel('Loss')\n",
    "plt.xlabel('Epoch')\n",
    "plt.legend(['train', 'test'], loc='upper left')\n",
    "plt.show()\n",
    "model_inc.save('wcv.h5')"
   ]
  }
 ],
 "metadata": {
  "kernelspec": {
   "display_name": "Python 3 (ipykernel)",
   "language": "python",
   "name": "python3"
  },
  "language_info": {
   "codemirror_mode": {
    "name": "ipython",
    "version": 3
   },
   "file_extension": ".py",
   "mimetype": "text/x-python",
   "name": "python",
   "nbconvert_exporter": "python",
   "pygments_lexer": "ipython3",
   "version": "3.11.4"
  }
 },
 "nbformat": 4,
 "nbformat_minor": 4
}
